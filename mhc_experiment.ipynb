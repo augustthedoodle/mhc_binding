{
 "cells": [
  {
   "cell_type": "markdown",
   "source": [
    "MHC Binding Prediction"
   ],
   "metadata": {}
  },
  {
   "cell_type": "markdown",
   "source": [
    "Encoding\r\n",
    "one-hot\r\n",
    "NLF\r\n",
    "Blosum"
   ],
   "metadata": {}
  },
  {
   "cell_type": "markdown",
   "source": [
    "Model\r\n",
    "MLP regression\r\n",
    "XGBoost"
   ],
   "metadata": {}
  },
  {
   "cell_type": "markdown",
   "source": [
    "AUC"
   ],
   "metadata": {}
  }
 ],
 "metadata": {
  "orig_nbformat": 4,
  "language_info": {
   "name": "python"
  }
 },
 "nbformat": 4,
 "nbformat_minor": 2
}