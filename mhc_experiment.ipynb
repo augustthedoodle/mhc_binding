{
 "cells": [
  {
   "cell_type": "markdown",
   "source": [
    "# MHC Binding Prediction"
   ],
   "metadata": {}
  },
  {
   "cell_type": "code",
   "execution_count": 1,
   "source": [
    "import pandas as pd\r\n",
    "import numpy as np\r\n",
    "import numpy as np\r\n",
    "import pandas as pd\r\n",
    "from numpy import array\r\n",
    "from numpy import argmax\r\n",
    "from sklearn.preprocessing import LabelEncoder\r\n",
    "from sklearn.preprocessing import OneHotEncoder\r\n",
    "from sklearn import model_selection\r\n",
    "import matplotlib.pyplot as plt\r\n",
    "from sklearn.preprocessing import StandardScaler\r\n",
    "from sklearn.linear_model import LinearRegression\r\n",
    "from sklearn.linear_model import LogisticRegression\r\n",
    "from sklearn.metrics import accuracy_score, roc_auc_score\r\n",
    "from sklearn.metrics import roc_curve, precision_recall_curve\r\n",
    "from sklearn.ensemble import RandomForestClassifier\r\n",
    "from sklearn.tree import DecisionTreeClassifier\r\n",
    "from sklearn.ensemble import BaggingClassifier\r\n",
    "from sklearn.neighbors import KNeighborsClassifier\r\n",
    "from sklearn.ensemble import RandomForestClassifier\r\n",
    "import seaborn as sns\r\n",
    "from sklearn.metrics import f1_score\r\n",
    "from sklearn.model_selection import train_test_split\r\n",
    "from sklearn import metrics\r\n",
    "import time\r\n",
    "\r\n",
    "%matplotlib inline"
   ],
   "outputs": [],
   "metadata": {}
  },
  {
   "cell_type": "markdown",
   "source": [
    "Load experimental dataset"
   ],
   "metadata": {}
  },
  {
   "cell_type": "code",
   "execution_count": null,
   "source": [
    "train_csv = pd.read_csv(\"dataset/mhc_train.csv\")\r\n",
    "print(train_csv)\r\n",
    "\r\n",
    "columns = ['mhc', 'seq_1', 'seq_2', 'seq_3', 'seq_4',\r\n",
    "       'seq_5', 'seq_6', 'seq_7', 'seq_8', 'seq_9']\r\n",
    "\r\n",
    "train_csv['seq_1'], train_csv['seq_2'], train_csv['seq_3'], train_csv['seq_4'], train_csv['seq_5'], train_csv['seq_6'], train_csv['seq_7'], train_csv['seq_8'], train_csv['seq_9'] = list(train_csv['sequence'].str)\r\n",
    "\r\n",
    "def show_matrix(m):\r\n",
    "    cm = sns.light_palette(\"seagreen\", as_cmap=True)\r\n",
    "    display(m.style.background_gradient(cmap=cm))"
   ],
   "outputs": [],
   "metadata": {}
  },
  {
   "cell_type": "markdown",
   "source": [
    "`Encode peptides` \r\n",
    "\\Carolyn: please investigate previous work on encoding method, including not limited to,\r\n",
    "https://dmnfarrell.github.io/bioinformatics/mhclearning\r\n",
    "* one-hot\r\n",
    "* sliding window (3)\r\n",
    "* NLF\r\n",
    "* Blosum\r\n"
   ],
   "metadata": {}
  },
  {
   "cell_type": "markdown",
   "source": [
    "`One-hot`"
   ],
   "metadata": {}
  },
  {
   "cell_type": "code",
   "execution_count": null,
   "source": [
    "from sklearn.preprocessing import OneHotEncoder\r\n",
    "\r\n",
    "enc = OneHotEncoder(handle_unknown='ignore')\r\n",
    "\r\n",
    "for col in columns:\r\n",
    "    train_csv[col] = enc.fit_transform(train_csv[col])\r\n",
    "\r\n",
    "y = train_csv['meas']\r\n",
    "X = train_csv.drop(['pep_class', 'sequence'], axis=1)\r\n",
    "\r\n",
    "X_train, X_test, y_train, y_test = train_test_split(X, y, test_size=0.3, random_state=0, stratify=y)\r\n",
    "class_train = X_train['pep_class']\r\n",
    "X_train.drop('pep_class', axis=1)\r\n",
    "class_test = X_test['pep_class']\r\n",
    "X_test.drop('pep_class', axis=1)\r\n",
    "\r\n",
    "print(X_train)"
   ],
   "outputs": [],
   "metadata": {}
  },
  {
   "cell_type": "markdown",
   "source": [
    "`Metrics/Evaluation with AUC`  "
   ],
   "metadata": {}
  },
  {
   "cell_type": "code",
   "execution_count": null,
   "source": [
    "def auc_score(true,sc,cutoff=None):\r\n",
    "    if cutoff!=None:\r\n",
    "        true = (true<=cutoff).astype(int)\r\n",
    "        sc = (sc<=cutoff).astype(int)        \r\n",
    "    fpr, tpr, thresholds = metrics.roc_curve(true, sc, pos_label=1)\r\n",
    "    r = metrics.auc(fpr, tpr)\r\n",
    "    return  r"
   ],
   "outputs": [],
   "metadata": {}
  },
  {
   "cell_type": "markdown",
   "source": [
    "`Model 1: MLP regression`"
   ],
   "metadata": {}
  },
  {
   "cell_type": "code",
   "execution_count": null,
   "source": [
    "from sklearn.neural_network import MLPRegressor\r\n",
    "\r\n",
    "# start with amino acid + 1\r\n",
    "model = MLPRegressor(hidden_layer_sizes=(10), alpha=0.01, max_iter=500, activation='identity', solver='adam', random_state=2)\r\n",
    "model.fit(X_train, y_train)\r\n",
    "y_predict = model.predict(X_test)\r\n",
    "class_predict = (y_predict > 0.5)\r\n",
    "\r\n",
    "plt.figure(figsize=(10,10))\r\n",
    "plt.scatter(class_test, class_predict, c='crimson')\r\n",
    "plt.axis('equal')\r\n",
    "plt.show()"
   ],
   "outputs": [],
   "metadata": {}
  }
 ],
 "metadata": {
  "interpreter": {
   "hash": "114000bcfe1b9e57aa775df2e91fc851857142db059bc5585a9a546bb988d5d2"
  },
  "kernelspec": {
   "display_name": "Python 3",
   "language": "python",
   "name": "python3"
  },
  "language_info": {
   "codemirror_mode": {
    "name": "ipython",
    "version": 3
   },
   "file_extension": ".py",
   "mimetype": "text/x-python",
   "name": "python",
   "nbconvert_exporter": "python",
   "pygments_lexer": "ipython3",
   "version": "3.8.8"
  }
 },
 "nbformat": 4,
 "nbformat_minor": 2
}