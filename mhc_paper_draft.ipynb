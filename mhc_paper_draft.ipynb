{
 "cells": [
  {
   "cell_type": "markdown",
   "metadata": {},
   "source": [
    "# MHC Binding Prediction"
   ]
  },
  {
   "cell_type": "code",
   "execution_count": 1,
   "metadata": {},
   "outputs": [],
   "source": [
    "import numpy as np\n",
    "import pandas as pd\n",
    "\n",
    "import sys, os, math, re\n",
    "\n",
    "import matplotlib.pyplot as plt\n",
    "\n",
    "from sklearn.preprocessing import LabelEncoder\n",
    "from sklearn.preprocessing import OneHotEncoder\n",
    "\n",
    "from sklearn.model_selection import train_test_split, cross_val_score, ShuffleSplit\n",
    "from sklearn.metrics import confusion_matrix\n",
    "from sklearn.metrics import accuracy_score, roc_auc_score, auc\n",
    "from sklearn.metrics import roc_curve, precision_recall_curve\n",
    "from sklearn.metrics import f1_score\n",
    "\n",
    "from sklearn.linear_model import LinearRegression\n",
    "from sklearn.linear_model import LogisticRegression\n",
    "from sklearn.ensemble import RandomForestClassifier\n",
    "from sklearn.tree import DecisionTreeClassifier\n",
    "from sklearn.ensemble import BaggingClassifier\n",
    "from sklearn.neighbors import KNeighborsClassifier\n",
    "from sklearn.ensemble import RandomForestClassifier\n",
    "\n",
    "import seaborn as sns\n",
    "import xgboost as xgb\n",
    "\n",
    "import time\n",
    "from IPython.display import display\n",
    "\n",
    "import csv\n",
    "\n",
    "%matplotlib inline"
   ]
  },
  {
   "cell_type": "markdown",
   "metadata": {},
   "source": [
    "feature generation\n",
    "every 2 AA to generate 400 features, total 8x400 features\n"
   ]
  },
  {
   "cell_type": "code",
   "execution_count": 2,
   "metadata": {},
   "outputs": [],
   "source": [
    "def BuildBlosum62():\n",
    "    df = pd.read_csv('blosum62.csv')\n",
    "    return df\n",
    "\n",
    "def GetSimilarMatrix(df, aa0, aa1):\n",
    "    assert aa0 in df.index, \"non-exist row {}\".format(aa0)\n",
    "    assert aa1 in df.columns.tolist(), \"non-exist column {}\".format(aa1)\n",
    "    return df.loc[aa0, aa1]\n",
    "\n",
    "aminolist = [\"A\", \"C\", \"D\", \"E\", \"F\", \"G\", \"H\", \"I\", \"K\", \"L\", \"M\", \"N\", \"P\", \"Q\", \"R\", \"S\", \"T\", \"V\", \"W\", \"Y\"]\n",
    "\n",
    "def run_xgb_cv(p, k, X, y):\n",
    "    xgb_dp = xgb.DMatrix(data=X,label=y)\n",
    "    xgb_cv = cv(dtrain=xgb_dp, params=p, nfold=k, num_boost_round=300, metrics=\"auc\", as_pandas=True, seed=123)\n",
    "    return xgb_cv\n",
    "    \n",
    "def BuildFeature(df, seq, segment=2, type='sparse'):\n",
    "    row = {}\n",
    "    print(seq)\n",
    "    if segment == 2:\n",
    "        #for i in range(len(seq)-1):\n",
    "        for i in range(9-segment+1):\n",
    "            for r in aminolist:\n",
    "                for c in aminolist:\n",
    "                    score1 = GetSimilarMatrix(df, seq[i:i+1], r)\n",
    "                    score2 = GetSimilarMatrix(df, seq[i+1:i+2], c)\n",
    "                    if type == 'sparse':\n",
    "                        row[str(i)+'_'+r+c] = score1 + score2\n",
    "                        #print(str(i)+'_'+r+c+' '+str(score1)+' '+str(score2))\n",
    "                    else:\n",
    "                        if r+c in row.keys():\n",
    "                            row[r+c] = row[r+c] + score1 + score2\n",
    "                        else:\n",
    "                            row[r+c] = score1 + score2\n",
    "    elif segment == 3:\n",
    "        for i in range(9-segment+1):\n",
    "            for d0 in aminolist:\n",
    "                for d1 in aminolist:\n",
    "                    for d2 in aminolist:\n",
    "                        score1 = GetSimilarMatrix(df, seq[i:i+1], d0)\n",
    "                        score2 = GetSimilarMatrix(df, seq[i+1:i+2], d1)\n",
    "                        score3 = GetSimilarMatrix(df, seq[i+2:i+3], d2)\n",
    "                        if type == 'sparse':\n",
    "                            row[str(i)+'_'+d0+d1+d2] = score1 + score2 + score3\n",
    "                            #print(str(i)+'_'+r+c+' '+str(score1)+' '+str(score2))\n",
    "                        else:\n",
    "                            if d0+d1+d2 in row.keys():\n",
    "                                row[d0+d1+d2] = row[d0+d1+d2] + score1 + score2 + score3\n",
    "                            else:\n",
    "                                row[d0+d1+d2] = score1 + score2 + score3\n",
    "\n",
    "    return row"
   ]
  },
  {
   "cell_type": "code",
   "execution_count": 3,
   "metadata": {},
   "outputs": [],
   "source": [
    "def show_roc_curve(y_test, y_pred):\n",
    "    auc_roc = roc_auc_score(y_test, y_pred)\n",
    "    print(\"AUC-ROC:\", auc_roc)\n",
    "    \n",
    "    # Compute micro-average ROC curve and ROC area\n",
    "    fpr, tpr, _ = roc_curve(y_test, y_pred)\n",
    "\n",
    "    plt.figure()\n",
    "    lw = 2\n",
    "    plt.plot(fpr, tpr, color='darkorange', lw=lw, label='ROC curve (area = %0.2f)' % auc_roc)\n",
    "    plt.plot([0, 1], [0, 1], color='navy', lw=lw, linestyle='--')\n",
    "    plt.xlim([-0.02, 1.0])\n",
    "    plt.ylim([0.0, 1.05])\n",
    "    plt.xlabel('False Positive Rate')\n",
    "    plt.ylabel('True Positive Rate')\n",
    "    plt.title('ROC curve')\n",
    "    plt.legend(loc=\"lower right\")\n",
    "    plt.show()\n",
    "\n",
    "def LoadDataset(pos_file, neg_file):\n",
    "    features = []\n",
    "    classes = []\n",
    "\n",
    "    if pos_file:\n",
    "        with open(os.path.join('dataset', pos_file), 'r', encoding='utf-8') as pep_input:\n",
    "            for line in pep_input:\n",
    "                if re.match(line, '^#'):\n",
    "                    continue \n",
    "                line = line.strip()\n",
    "                if line.isalpha():\n",
    "                    seq=str(line).upper()\n",
    "                    features.append(seq)\n",
    "                    classes.append(1)\n",
    "\n",
    "    if neg_file:\n",
    "        with open(os.path.join('dataset', neg_file), 'r', encoding='utf-8') as pep_input:\n",
    "            for line in pep_input:\n",
    "                if re.match(line, '^#'):\n",
    "                    continue\n",
    "                line = line.strip()\n",
    "                if line.isalpha():\n",
    "                    seq=str(line).upper()\n",
    "                    features.append(seq)\n",
    "                    classes.append(0)\n",
    "\n",
    "    dataset = pd.DataFrame(\n",
    "        {\n",
    "            'sequence': features,\n",
    "            'class': classes\n",
    "        }\n",
    "    )\n",
    "\n",
    "    print(dataset.shape)\n",
    "    return dataset\n",
    "\n",
    "def LoadDataset_combined (pn_file, line_no):\n",
    "    features = []\n",
    "    classes = []\n",
    "\n",
    "    with open(os.path.join('dataset', pn_file), 'r', encoding='utf-8') as pep_input:\n",
    "        # file line is header: 'cancer\twt'\n",
    "        next(pep_input)\n",
    "        count = 0\n",
    "\n",
    "        for line in pep_input:\n",
    "            if re.match(line, '^#'):\n",
    "                continue\n",
    "            if line_no != 0 and count == line_no:\n",
    "                break\n",
    "            line = line.strip()\n",
    "            seqs = str(line).upper().split()\n",
    "            features.append(seqs[0])\n",
    "            classes.append(1)\n",
    "            features.append(seqs[1])\n",
    "            classes.append(0)\n",
    "            count = count + 1\n",
    "\n",
    "    dataset = pd.DataFrame(\n",
    "        {\n",
    "            'sequence': features,\n",
    "            'class': classes\n",
    "        }\n",
    "    )\n",
    "\n",
    "    print(dataset.shape)\n",
    "    return dataset\n",
    "\n",
    "def LoadDataset_neg (pn_file, line_no):\n",
    "    features = []\n",
    "    classes = []\n",
    "\n",
    "    with open(os.path.join('dataset', pn_file), 'r', encoding='utf-8') as pep_input:\n",
    "        # file line is header\n",
    "        next(pep_input)\n",
    "        count = 0\n",
    "\n",
    "        for line in pep_input:\n",
    "            if re.match(line, '^#'):\n",
    "                continue\n",
    "            if line_no != 0 and count == line_no:\n",
    "                break\n",
    "            line = line.strip()\n",
    "            seqs = str(line).upper().split()\n",
    "            features.append(seqs[0])\n",
    "            classes.append(0)\n",
    "            features.append(seqs[1])\n",
    "            classes.append(0)\n",
    "            count = count + 1\n",
    "\n",
    "    dataset = pd.DataFrame(\n",
    "        {\n",
    "            'sequence': features,\n",
    "            'class': classes\n",
    "        }\n",
    "    )\n",
    "\n",
    "    print(dataset.shape)\n",
    "    return dataset"
   ]
  },
  {
   "cell_type": "code",
   "execution_count": 4,
   "metadata": {},
   "outputs": [
    {
     "name": "stdout",
     "output_type": "stream",
     "text": [
      "(15351, 2)\n",
      "(146, 2)\n",
      "(76, 2)\n",
      "(158, 2)\n",
      "(2070, 2)\n",
      "(200, 2)\n",
      "(190, 2)\n"
     ]
    }
   ],
   "source": [
    "# train:\n",
    "# ALL_f00123_c00123_ba_positive.txt， ALL_f00123_c00123_ba_negative.txt\n",
    "# calculate score:\n",
    "# HC_cancer_neoantig.txt\n",
    "# MC_cancer_neoantig.txt\n",
    "# NECID_Query_all_positive_9aa.txt\n",
    "# iedb_validated_9aa_SB.txt\n",
    "# calculate AUC:\n",
    "# NECID_Query_all_negative_mut.txt\n",
    "# ALL_cancer_positive.txt\n",
    "# iedb_validated_9aa_SB.txt\n",
    "\n",
    "dataset_train = LoadDataset(pos_file='ALL_f00123_c00123_ba_positive.txt', neg_file='ALL_f00123_c00123_ba_negative.txt')\n",
    "dataset_hc_cancer = LoadDataset_combined(pn_file='HC_cancer_neoantig.txt', line_no=0)\n",
    "dataset_mc_cancer = LoadDataset_combined(pn_file='MC_cancer_neoantig.txt', line_no=0)\n",
    "dataset_necid = LoadDataset_combined(pn_file='NECID_Query_all_positive_9aa.txt', line_no=0)\n",
    "dataset_iedb = LoadDataset_combined(pn_file='iedb_validated_9aa_SB.txt', line_no=0)\n",
    "\n",
    "dataset_auc = LoadDataset_neg(pn_file='NECID_Query_all_negative_mut.txt', line_no=100)\n",
    "dataset_auc_pos = LoadDataset(pos_file='ALL_cancer_positive.txt', neg_file='')\n",
    "dataset_auc = dataset_auc.append(dataset_auc_pos, ignore_index=True)"
   ]
  },
  {
   "cell_type": "markdown",
   "metadata": {},
   "source": [
    "Experiment: generate 7x400 feature table for 3 AA score"
   ]
  },
  {
   "cell_type": "code",
   "execution_count": 6,
   "metadata": {},
   "outputs": [
    {
     "name": "stdout",
     "output_type": "stream",
     "text": [
      "   A  R  N  D  C  Q  E  G  H  I  ...  K  M  F  P  S  T   W  Y  V  X\n",
      "A  4 -1 -2 -2  0 -1 -1  0 -2 -1  ... -1 -1 -2 -1  1  0  -3 -2  0  0\n",
      "R -1  5  0 -2 -3  1  0 -2  0 -3  ...  2 -1 -3 -2 -1 -1  -3 -2 -3 -1\n",
      "N -2  0  6  1 -3  0  0  0  1 -3  ...  0 -2 -3 -2  1  0  -4 -2 -3 -1\n",
      "D -2 -2  1  6 -3  0  2 -1 -1 -3  ... -1 -3 -3 -1  0 -1  -4 -3 -3 -1\n",
      "C  0 -3 -3 -3  9 -3 -4 -3 -3 -1  ... -3 -1 -2 -3 -1 -1  -2 -2 -1 -2\n",
      "Q -1  1  0  0 -3  5  2 -2  0 -3  ...  1  0 -3 -1  0 -1  -2 -1 -2 -1\n",
      "E -1  0  0  2 -4  2  5 -2  0 -3  ...  1 -2 -3 -1  0 -1  -3 -2 -2 -1\n",
      "G  0 -2  0 -1 -3 -2 -2  6 -2 -4  ... -2 -3 -3 -2  0 -2  -2 -3 -3 -1\n",
      "H -2  0  1 -1 -3  0  0 -2  8 -3  ... -1 -2 -1 -2 -1 -2  -2  2 -3 -1\n",
      "I -1 -3 -3 -3 -1 -3 -3 -4 -3  4  ... -3  1  0 -3 -2 -1  -3 -1  3 -1\n",
      "L -1 -2 -3 -4 -1 -2 -3 -4 -3  2  ... -2  2  0 -3 -2 -1  -2 -1  1 -1\n",
      "K -1  2  0 -1 -3  1  1 -2 -1 -3  ...  5 -1 -3 -1  0 -1  -3 -2 -2 -1\n",
      "M -1 -1 -2 -3 -1  0 -2 -3 -2  1  ... -1  5  0 -2 -1 -1  -1 -1  1 -1\n",
      "F -2 -3 -3 -3 -2 -3 -3 -3 -1  0  ... -3  0  6 -4 -2 -2   1  3 -1 -1\n",
      "P -1 -2 -2 -1 -3 -1 -1 -2 -2 -3  ... -1 -2 -4  7 -1 -1  -4 -3 -2 -2\n",
      "S  1 -1  1  0 -1  0  0  0 -1 -2  ...  0 -1 -2 -1  4  1  -3 -2 -2  0\n",
      "T  0 -1  0 -1 -1 -1 -1 -2 -2 -1  ... -1 -1 -2 -1  1  5  -2 -2  0  0\n",
      "W -3 -3 -4 -4 -2 -2 -3 -2 -2 -3  ... -3 -1  1 -4 -3 -2  11  2 -3 -2\n",
      "Y -2 -2 -2 -3 -2 -1 -2 -3  2 -1  ... -2 -1  3 -3 -2 -2   2  7 -1 -1\n",
      "V  0 -3 -3 -3 -1 -2 -2 -3 -3  3  ... -2  1 -1 -2 -2  0  -3 -1  4 -1\n",
      "X  0 -1 -1 -1 -2 -1 -1 -1 -1 -1  ... -1 -1 -1 -2  0  0  -2 -1 -1 -1\n",
      "\n",
      "[21 rows x 21 columns]\n"
     ]
    }
   ],
   "source": [
    "scoreTable = BuildBlosum62()\n",
    "print(scoreTable)\n",
    "\n",
    "X_list = {}\n",
    "y_list = {}\n",
    "\n",
    "ds_list = {\n",
    "    'train': dataset_train,\n",
    "    'hc_cancer': dataset_hc_cancer,\n",
    "    'mc_cancer': dataset_mc_cancer,\n",
    "    'necid': dataset_necid,\n",
    "    'iedb': dataset_iedb,\n",
    "    'auc': dataset_auc,\n",
    "}\n",
    "\n",
    "LOAD_EXISTING_DATA = True\n",
    "DUMP_SCORE = False\n",
    "if LOAD_EXISTING_DATA:\n",
    "    for key in ds_list:\n",
    "        store = pd.HDFStore(key+'.h5')\n",
    "        X_ = store['X']\n",
    "        y_ = store['y']\n",
    "        store.close()\n",
    "        X_list[key] = X_\n",
    "        y_list[key] = y_\n",
    "        if DUMP_SCORE:\n",
    "            df = pd.concat([X_, y_], axis=1)\n",
    "            df.to_csv(f'{key}.score.csv', index=False)\n",
    "else:\n",
    "    for key, value in ds_list.items():\n",
    "        X_ = []\n",
    "        y_ = []\n",
    "        start = time.time()\n",
    "        ds = value\n",
    "        for index in range(len(ds)):\n",
    "            #feat = BuildFeature(df=scoreTable, seq=ds.loc[index, 'sequence'], type='sparse')\n",
    "            feat = BuildFeature(df=scoreTable, seq=ds.loc[index, 'sequence'], segment=3, type='condense')\n",
    "            X_.append(feat)\n",
    "            y_.append(ds.loc[index, 'class'])\n",
    "\n",
    "        X_ = pd.DataFrame(X_)\n",
    "        y_ = pd.DataFrame(y_)\n",
    "        print(X_)\n",
    "\n",
    "        store = pd.HDFStore(key+'.h5')\n",
    "        store['X'] = X_\n",
    "        store['y'] = y_\n",
    "        store.close()\n",
    "\n",
    "        X_list[key] = X_\n",
    "        y_list[key] = y_\n",
    "        end = time.time()\n",
    "        print(\"Time to build feature vector: {} sec\".format(end-start))"
   ]
  },
  {
   "cell_type": "code",
   "execution_count": 7,
   "metadata": {},
   "outputs": [],
   "source": [
    "params = {\n",
    "    \"objective\": \"binary:logistic\",\n",
    "    \"booster\": \"gbtree\",\n",
    "    \"eval_metric\": \"auc\",\n",
    "    \"eta\": 0.1,\n",
    "    \"min_child_weight\": 1,\n",
    "    \"max_depth\": 6,\n",
    "    \"nthread\": 4\n",
    "}"
   ]
  },
  {
   "cell_type": "code",
   "execution_count": 8,
   "metadata": {},
   "outputs": [
    {
     "name": "stdout",
     "output_type": "stream",
     "text": [
      "CV train on train\n"
     ]
    },
    {
     "ename": "KeyboardInterrupt",
     "evalue": "",
     "output_type": "error",
     "traceback": [
      "\u001b[1;31m---------------------------------------------------------------------------\u001b[0m",
      "\u001b[1;31mKeyboardInterrupt\u001b[0m                         Traceback (most recent call last)",
      "\u001b[1;32mC:\\Users\\SEANXI~1\\AppData\\Local\\Temp/ipykernel_27884/1740504518.py\u001b[0m in \u001b[0;36m<module>\u001b[1;34m\u001b[0m\n\u001b[0;32m      5\u001b[0m \u001b[0mX\u001b[0m \u001b[1;33m=\u001b[0m \u001b[0mX_list\u001b[0m\u001b[1;33m[\u001b[0m\u001b[0muse_train\u001b[0m\u001b[1;33m]\u001b[0m\u001b[1;33m\u001b[0m\u001b[1;33m\u001b[0m\u001b[0m\n\u001b[0;32m      6\u001b[0m \u001b[0my\u001b[0m \u001b[1;33m=\u001b[0m \u001b[0my_list\u001b[0m\u001b[1;33m[\u001b[0m\u001b[0muse_train\u001b[0m\u001b[1;33m]\u001b[0m\u001b[1;33m\u001b[0m\u001b[1;33m\u001b[0m\u001b[0m\n\u001b[1;32m----> 7\u001b[1;33m \u001b[0mxgb_cv\u001b[0m \u001b[1;33m=\u001b[0m \u001b[0mrun_xgb_cv\u001b[0m\u001b[1;33m(\u001b[0m\u001b[0mp\u001b[0m\u001b[1;33m=\u001b[0m\u001b[0mparams\u001b[0m\u001b[1;33m,\u001b[0m \u001b[0mk\u001b[0m\u001b[1;33m=\u001b[0m\u001b[1;36m5\u001b[0m\u001b[1;33m,\u001b[0m \u001b[0mX\u001b[0m\u001b[1;33m=\u001b[0m\u001b[0mX\u001b[0m\u001b[1;33m,\u001b[0m \u001b[0my\u001b[0m\u001b[1;33m=\u001b[0m\u001b[0my\u001b[0m\u001b[1;33m)\u001b[0m\u001b[1;33m\u001b[0m\u001b[1;33m\u001b[0m\u001b[0m\n\u001b[0m\u001b[0;32m      8\u001b[0m \u001b[0mprint\u001b[0m\u001b[1;33m(\u001b[0m\u001b[0mxgb_cv\u001b[0m\u001b[1;33m)\u001b[0m\u001b[1;33m\u001b[0m\u001b[1;33m\u001b[0m\u001b[0m\n",
      "\u001b[1;32mC:\\Users\\SEANXI~1\\AppData\\Local\\Temp/ipykernel_27884/4238006048.py\u001b[0m in \u001b[0;36mrun_xgb_cv\u001b[1;34m(p, k, X, y)\u001b[0m\n\u001b[0;32m     12\u001b[0m \u001b[1;32mdef\u001b[0m \u001b[0mrun_xgb_cv\u001b[0m\u001b[1;33m(\u001b[0m\u001b[0mp\u001b[0m\u001b[1;33m,\u001b[0m \u001b[0mk\u001b[0m\u001b[1;33m,\u001b[0m \u001b[0mX\u001b[0m\u001b[1;33m,\u001b[0m \u001b[0my\u001b[0m\u001b[1;33m)\u001b[0m\u001b[1;33m:\u001b[0m\u001b[1;33m\u001b[0m\u001b[1;33m\u001b[0m\u001b[0m\n\u001b[0;32m     13\u001b[0m     \u001b[0mxgb_dp\u001b[0m \u001b[1;33m=\u001b[0m \u001b[0mxgb\u001b[0m\u001b[1;33m.\u001b[0m\u001b[0mDMatrix\u001b[0m\u001b[1;33m(\u001b[0m\u001b[0mdata\u001b[0m\u001b[1;33m=\u001b[0m\u001b[0mX\u001b[0m\u001b[1;33m,\u001b[0m\u001b[0mlabel\u001b[0m\u001b[1;33m=\u001b[0m\u001b[0my\u001b[0m\u001b[1;33m)\u001b[0m\u001b[1;33m\u001b[0m\u001b[1;33m\u001b[0m\u001b[0m\n\u001b[1;32m---> 14\u001b[1;33m     \u001b[0mxgb_cv\u001b[0m \u001b[1;33m=\u001b[0m \u001b[0mcv\u001b[0m\u001b[1;33m(\u001b[0m\u001b[0mdtrain\u001b[0m\u001b[1;33m=\u001b[0m\u001b[0mxgb_dp\u001b[0m\u001b[1;33m,\u001b[0m \u001b[0mparams\u001b[0m\u001b[1;33m=\u001b[0m\u001b[0mp\u001b[0m\u001b[1;33m,\u001b[0m \u001b[0mnfold\u001b[0m\u001b[1;33m=\u001b[0m\u001b[0mk\u001b[0m\u001b[1;33m,\u001b[0m \u001b[0mnum_boost_round\u001b[0m\u001b[1;33m=\u001b[0m\u001b[1;36m300\u001b[0m\u001b[1;33m,\u001b[0m \u001b[0mmetrics\u001b[0m\u001b[1;33m=\u001b[0m\u001b[1;34m\"auc\"\u001b[0m\u001b[1;33m,\u001b[0m \u001b[0mas_pandas\u001b[0m\u001b[1;33m=\u001b[0m\u001b[1;32mTrue\u001b[0m\u001b[1;33m,\u001b[0m \u001b[0mseed\u001b[0m\u001b[1;33m=\u001b[0m\u001b[1;36m123\u001b[0m\u001b[1;33m)\u001b[0m\u001b[1;33m\u001b[0m\u001b[1;33m\u001b[0m\u001b[0m\n\u001b[0m\u001b[0;32m     15\u001b[0m     \u001b[1;32mreturn\u001b[0m \u001b[0mxgb_cv\u001b[0m\u001b[1;33m\u001b[0m\u001b[1;33m\u001b[0m\u001b[0m\n\u001b[0;32m     16\u001b[0m \u001b[1;33m\u001b[0m\u001b[0m\n",
      "\u001b[1;32m~\\Anaconda3\\lib\\site-packages\\xgboost\\training.py\u001b[0m in \u001b[0;36mcv\u001b[1;34m(params, dtrain, num_boost_round, nfold, stratified, folds, metrics, obj, feval, maximize, early_stopping_rounds, fpreproc, as_pandas, verbose_eval, show_stdv, seed, callbacks, shuffle)\u001b[0m\n\u001b[0;32m    513\u001b[0m         \u001b[1;32mif\u001b[0m \u001b[0mcallbacks\u001b[0m\u001b[1;33m.\u001b[0m\u001b[0mbefore_iteration\u001b[0m\u001b[1;33m(\u001b[0m\u001b[0mbooster\u001b[0m\u001b[1;33m,\u001b[0m \u001b[0mi\u001b[0m\u001b[1;33m,\u001b[0m \u001b[0mdtrain\u001b[0m\u001b[1;33m,\u001b[0m \u001b[1;32mNone\u001b[0m\u001b[1;33m)\u001b[0m\u001b[1;33m:\u001b[0m\u001b[1;33m\u001b[0m\u001b[1;33m\u001b[0m\u001b[0m\n\u001b[0;32m    514\u001b[0m             \u001b[1;32mbreak\u001b[0m\u001b[1;33m\u001b[0m\u001b[1;33m\u001b[0m\u001b[0m\n\u001b[1;32m--> 515\u001b[1;33m         \u001b[0mbooster\u001b[0m\u001b[1;33m.\u001b[0m\u001b[0mupdate\u001b[0m\u001b[1;33m(\u001b[0m\u001b[0mi\u001b[0m\u001b[1;33m,\u001b[0m \u001b[0mobj\u001b[0m\u001b[1;33m)\u001b[0m\u001b[1;33m\u001b[0m\u001b[1;33m\u001b[0m\u001b[0m\n\u001b[0m\u001b[0;32m    516\u001b[0m \u001b[1;33m\u001b[0m\u001b[0m\n\u001b[0;32m    517\u001b[0m         \u001b[0mshould_break\u001b[0m \u001b[1;33m=\u001b[0m \u001b[0mcallbacks\u001b[0m\u001b[1;33m.\u001b[0m\u001b[0mafter_iteration\u001b[0m\u001b[1;33m(\u001b[0m\u001b[0mbooster\u001b[0m\u001b[1;33m,\u001b[0m \u001b[0mi\u001b[0m\u001b[1;33m,\u001b[0m \u001b[0mdtrain\u001b[0m\u001b[1;33m,\u001b[0m \u001b[1;32mNone\u001b[0m\u001b[1;33m)\u001b[0m\u001b[1;33m\u001b[0m\u001b[1;33m\u001b[0m\u001b[0m\n",
      "\u001b[1;32m~\\Anaconda3\\lib\\site-packages\\xgboost\\training.py\u001b[0m in \u001b[0;36mupdate\u001b[1;34m(self, iteration, obj)\u001b[0m\n\u001b[0;32m    262\u001b[0m         \u001b[1;34m'''Iterate through folds for update'''\u001b[0m\u001b[1;33m\u001b[0m\u001b[1;33m\u001b[0m\u001b[0m\n\u001b[0;32m    263\u001b[0m         \u001b[1;32mfor\u001b[0m \u001b[0mfold\u001b[0m \u001b[1;32min\u001b[0m \u001b[0mself\u001b[0m\u001b[1;33m.\u001b[0m\u001b[0mcvfolds\u001b[0m\u001b[1;33m:\u001b[0m\u001b[1;33m\u001b[0m\u001b[1;33m\u001b[0m\u001b[0m\n\u001b[1;32m--> 264\u001b[1;33m             \u001b[0mfold\u001b[0m\u001b[1;33m.\u001b[0m\u001b[0mupdate\u001b[0m\u001b[1;33m(\u001b[0m\u001b[0miteration\u001b[0m\u001b[1;33m,\u001b[0m \u001b[0mobj\u001b[0m\u001b[1;33m)\u001b[0m\u001b[1;33m\u001b[0m\u001b[1;33m\u001b[0m\u001b[0m\n\u001b[0m\u001b[0;32m    265\u001b[0m \u001b[1;33m\u001b[0m\u001b[0m\n\u001b[0;32m    266\u001b[0m     \u001b[1;32mdef\u001b[0m \u001b[0meval\u001b[0m\u001b[1;33m(\u001b[0m\u001b[0mself\u001b[0m\u001b[1;33m,\u001b[0m \u001b[0miteration\u001b[0m\u001b[1;33m,\u001b[0m \u001b[0mfeval\u001b[0m\u001b[1;33m)\u001b[0m\u001b[1;33m:\u001b[0m\u001b[1;33m\u001b[0m\u001b[1;33m\u001b[0m\u001b[0m\n",
      "\u001b[1;32m~\\Anaconda3\\lib\\site-packages\\xgboost\\training.py\u001b[0m in \u001b[0;36mupdate\u001b[1;34m(self, iteration, fobj)\u001b[0m\n\u001b[0;32m    248\u001b[0m     \u001b[1;32mdef\u001b[0m \u001b[0mupdate\u001b[0m\u001b[1;33m(\u001b[0m\u001b[0mself\u001b[0m\u001b[1;33m,\u001b[0m \u001b[0miteration\u001b[0m\u001b[1;33m,\u001b[0m \u001b[0mfobj\u001b[0m\u001b[1;33m)\u001b[0m\u001b[1;33m:\u001b[0m\u001b[1;33m\u001b[0m\u001b[1;33m\u001b[0m\u001b[0m\n\u001b[0;32m    249\u001b[0m         \u001b[1;34m\"\"\"\"Update the boosters for one iteration\"\"\"\u001b[0m\u001b[1;33m\u001b[0m\u001b[1;33m\u001b[0m\u001b[0m\n\u001b[1;32m--> 250\u001b[1;33m         \u001b[0mself\u001b[0m\u001b[1;33m.\u001b[0m\u001b[0mbst\u001b[0m\u001b[1;33m.\u001b[0m\u001b[0mupdate\u001b[0m\u001b[1;33m(\u001b[0m\u001b[0mself\u001b[0m\u001b[1;33m.\u001b[0m\u001b[0mdtrain\u001b[0m\u001b[1;33m,\u001b[0m \u001b[0miteration\u001b[0m\u001b[1;33m,\u001b[0m \u001b[0mfobj\u001b[0m\u001b[1;33m)\u001b[0m\u001b[1;33m\u001b[0m\u001b[1;33m\u001b[0m\u001b[0m\n\u001b[0m\u001b[0;32m    251\u001b[0m \u001b[1;33m\u001b[0m\u001b[0m\n\u001b[0;32m    252\u001b[0m     \u001b[1;32mdef\u001b[0m \u001b[0meval\u001b[0m\u001b[1;33m(\u001b[0m\u001b[0mself\u001b[0m\u001b[1;33m,\u001b[0m \u001b[0miteration\u001b[0m\u001b[1;33m,\u001b[0m \u001b[0mfeval\u001b[0m\u001b[1;33m)\u001b[0m\u001b[1;33m:\u001b[0m\u001b[1;33m\u001b[0m\u001b[1;33m\u001b[0m\u001b[0m\n",
      "\u001b[1;32m~\\Anaconda3\\lib\\site-packages\\xgboost\\core.py\u001b[0m in \u001b[0;36mupdate\u001b[1;34m(self, dtrain, iteration, fobj)\u001b[0m\n\u001b[0;32m   1278\u001b[0m \u001b[1;33m\u001b[0m\u001b[0m\n\u001b[0;32m   1279\u001b[0m         \u001b[1;32mif\u001b[0m \u001b[0mfobj\u001b[0m \u001b[1;32mis\u001b[0m \u001b[1;32mNone\u001b[0m\u001b[1;33m:\u001b[0m\u001b[1;33m\u001b[0m\u001b[1;33m\u001b[0m\u001b[0m\n\u001b[1;32m-> 1280\u001b[1;33m             _check_call(_LIB.XGBoosterUpdateOneIter(self.handle,\n\u001b[0m\u001b[0;32m   1281\u001b[0m                                                     \u001b[0mctypes\u001b[0m\u001b[1;33m.\u001b[0m\u001b[0mc_int\u001b[0m\u001b[1;33m(\u001b[0m\u001b[0miteration\u001b[0m\u001b[1;33m)\u001b[0m\u001b[1;33m,\u001b[0m\u001b[1;33m\u001b[0m\u001b[1;33m\u001b[0m\u001b[0m\n\u001b[0;32m   1282\u001b[0m                                                     dtrain.handle))\n",
      "\u001b[1;31mKeyboardInterrupt\u001b[0m: "
     ]
    }
   ],
   "source": [
    "from xgboost import cv\n",
    "\n",
    "use_train = 'train'\n",
    "print(\"CV train on \"+use_train)\n",
    "X = X_list[use_train]\n",
    "y = y_list[use_train]\n",
    "xgb_cv = run_xgb_cv(p=params, k=5, X=X, y=y)\n",
    "print(xgb_cv)"
   ]
  },
  {
   "cell_type": "code",
   "execution_count": 9,
   "metadata": {},
   "outputs": [
    {
     "name": "stdout",
     "output_type": "stream",
     "text": [
      "========= train with ALL_f00123_c00123_ba  =========\n",
      "[0]\ttrain-auc:0.70215\n",
      "[1]\ttrain-auc:0.73366\n",
      "[2]\ttrain-auc:0.75246\n",
      "[3]\ttrain-auc:0.76879\n",
      "[4]\ttrain-auc:0.78080\n",
      "[5]\ttrain-auc:0.78995\n",
      "[6]\ttrain-auc:0.79566\n",
      "[7]\ttrain-auc:0.80097\n",
      "[8]\ttrain-auc:0.81017\n",
      "[9]\ttrain-auc:0.81627\n",
      "[10]\ttrain-auc:0.82107\n",
      "[11]\ttrain-auc:0.82656\n",
      "[12]\ttrain-auc:0.83185\n",
      "[13]\ttrain-auc:0.83556\n",
      "[14]\ttrain-auc:0.84173\n",
      "[15]\ttrain-auc:0.84647\n",
      "[16]\ttrain-auc:0.85006\n",
      "[17]\ttrain-auc:0.85224\n",
      "[18]\ttrain-auc:0.85618\n",
      "[19]\ttrain-auc:0.86022\n",
      "[20]\ttrain-auc:0.86322\n",
      "[21]\ttrain-auc:0.86719\n",
      "[22]\ttrain-auc:0.87016\n",
      "[23]\ttrain-auc:0.87423\n",
      "[24]\ttrain-auc:0.87797\n",
      "[25]\ttrain-auc:0.88022\n",
      "[26]\ttrain-auc:0.88276\n",
      "[27]\ttrain-auc:0.88455\n",
      "[28]\ttrain-auc:0.88615\n",
      "[29]\ttrain-auc:0.88815\n",
      "[30]\ttrain-auc:0.88921\n",
      "[31]\ttrain-auc:0.89134\n",
      "[32]\ttrain-auc:0.89359\n",
      "[33]\ttrain-auc:0.89528\n",
      "[34]\ttrain-auc:0.89755\n",
      "[35]\ttrain-auc:0.89798\n",
      "[36]\ttrain-auc:0.89932\n",
      "[37]\ttrain-auc:0.90282\n",
      "[38]\ttrain-auc:0.90428\n",
      "[39]\ttrain-auc:0.90678\n",
      "[40]\ttrain-auc:0.90806\n",
      "[41]\ttrain-auc:0.91083\n",
      "[42]\ttrain-auc:0.91354\n",
      "[43]\ttrain-auc:0.91538\n",
      "[44]\ttrain-auc:0.91697\n",
      "[45]\ttrain-auc:0.91799\n",
      "[46]\ttrain-auc:0.91966\n",
      "[47]\ttrain-auc:0.92105\n",
      "[48]\ttrain-auc:0.92168\n",
      "[49]\ttrain-auc:0.92301\n",
      "[50]\ttrain-auc:0.92385\n",
      "[51]\ttrain-auc:0.92535\n",
      "[52]\ttrain-auc:0.92601\n",
      "[53]\ttrain-auc:0.92785\n",
      "[54]\ttrain-auc:0.92950\n",
      "[55]\ttrain-auc:0.93030\n",
      "[56]\ttrain-auc:0.93210\n",
      "[57]\ttrain-auc:0.93352\n",
      "[58]\ttrain-auc:0.93425\n",
      "[59]\ttrain-auc:0.93577\n",
      "[60]\ttrain-auc:0.93807\n",
      "[61]\ttrain-auc:0.93902\n",
      "[62]\ttrain-auc:0.94068\n",
      "[63]\ttrain-auc:0.94220\n",
      "[64]\ttrain-auc:0.94369\n",
      "[65]\ttrain-auc:0.94480\n",
      "[66]\ttrain-auc:0.94634\n",
      "[67]\ttrain-auc:0.94828\n",
      "[68]\ttrain-auc:0.94903\n",
      "[69]\ttrain-auc:0.94994\n",
      "[70]\ttrain-auc:0.95061\n",
      "[71]\ttrain-auc:0.95179\n",
      "[72]\ttrain-auc:0.95250\n",
      "[73]\ttrain-auc:0.95333\n",
      "[74]\ttrain-auc:0.95481\n",
      "[75]\ttrain-auc:0.95583\n",
      "[76]\ttrain-auc:0.95614\n",
      "[77]\ttrain-auc:0.95700\n",
      "[78]\ttrain-auc:0.95742\n",
      "[79]\ttrain-auc:0.95892\n",
      "[80]\ttrain-auc:0.95972\n",
      "[81]\ttrain-auc:0.96027\n",
      "[82]\ttrain-auc:0.96077\n",
      "[83]\ttrain-auc:0.96173\n",
      "[84]\ttrain-auc:0.96237\n",
      "[85]\ttrain-auc:0.96335\n",
      "[86]\ttrain-auc:0.96398\n",
      "[87]\ttrain-auc:0.96506\n",
      "[88]\ttrain-auc:0.96577\n",
      "[89]\ttrain-auc:0.96691\n",
      "[90]\ttrain-auc:0.96826\n",
      "[91]\ttrain-auc:0.96887\n",
      "[92]\ttrain-auc:0.96926\n",
      "[93]\ttrain-auc:0.96950\n",
      "[94]\ttrain-auc:0.97034\n",
      "[95]\ttrain-auc:0.97061\n",
      "[96]\ttrain-auc:0.97137\n",
      "[97]\ttrain-auc:0.97248\n",
      "[98]\ttrain-auc:0.97291\n",
      "[99]\ttrain-auc:0.97350\n",
      "Time to train: 379.8785710334778 sec\n"
     ]
    }
   ],
   "source": [
    "print(\"========= train with {}  =========\".format('ALL_f00123_c00123_ba'))\n",
    "use_train = 'train'\n",
    "X = X_list[use_train]\n",
    "y = y_list[use_train]\n",
    "xgb_train = xgb.DMatrix(X.values, y.values)\n",
    "\n",
    "num_round = 100\n",
    "watchlist = [(xgb_train, 'train')]\n",
    "start = time.time()\n",
    "model = xgb.train(params, xgb_train, num_round, watchlist)\n",
    "end = time.time()\n",
    "print(\"Time to train: {} sec\".format(end-start))"
   ]
  },
  {
   "cell_type": "code",
   "execution_count": 10,
   "metadata": {},
   "outputs": [
    {
     "name": "stdout",
     "output_type": "stream",
     "text": [
      "========= test on hc_cancer =========\n",
      "(146,)\n",
      "AUC-ROC: 0.6089322574591856\n"
     ]
    },
    {
     "data": {
      "image/png": "[encoded data removed]",
      "text/plain": [
       "<Figure size 432x288 with 1 Axes>"
      ]
     },
     "metadata": {
      "needs_background": "light"
     },
     "output_type": "display_data"
    },
    {
     "name": "stdout",
     "output_type": "stream",
     "text": [
      "========= test on mc_cancer =========\n",
      "(76,)\n",
      "AUC-ROC: 0.564404432132964\n"
     ]
    },
    {
     "data": {
      "image/png": "[encoded data removed]",
      "text/plain": [
       "<Figure size 432x288 with 1 Axes>"
      ]
     },
     "metadata": {
      "needs_background": "light"
     },
     "output_type": "display_data"
    },
    {
     "name": "stdout",
     "output_type": "stream",
     "text": [
      "========= test on necid =========\n",
      "(158,)\n",
      "AUC-ROC: 0.5809966351546226\n"
     ]
    },
    {
     "data": {
      "image/png": "[encoded data removed]",
      "text/plain": [
       "<Figure size 432x288 with 1 Axes>"
      ]
     },
     "metadata": {
      "needs_background": "light"
     },
     "output_type": "display_data"
    },
    {
     "name": "stdout",
     "output_type": "stream",
     "text": [
      "========= test on iedb =========\n",
      "(2070,)\n",
      "AUC-ROC: 0.5113636257555603\n"
     ]
    },
    {
     "data": {
      "image/png": "[encoded data removed]",
      "text/plain": [
       "<Figure size 432x288 with 1 Axes>"
      ]
     },
     "metadata": {
      "needs_background": "light"
     },
     "output_type": "display_data"
    }
   ],
   "source": [
    "for ds in ['hc_cancer', 'mc_cancer', 'necid', 'iedb']:\n",
    "    print(\"========= test on {} =========\".format(ds))\n",
    "    xgb_test = xgb.DMatrix(X_list[ds].values)\n",
    "    y_pred = model.predict(xgb_test)\n",
    "    print(y_pred.shape)\n",
    "    show_roc_curve(y_test = y_list[ds], y_pred = y_pred)\n",
    "\n",
    "    ds_list[ds]['pred'] = y_pred\n",
    "    ds_list[ds].to_csv(f'{ds}.pred.csv', index=False)"
   ]
  },
  {
   "cell_type": "code",
   "execution_count": 11,
   "metadata": {},
   "outputs": [
    {
     "name": "stdout",
     "output_type": "stream",
     "text": [
      "========= calculate AUC =========\n",
      "AUC-ROC: 0.6848280423280423\n"
     ]
    },
    {
     "data": {
      "image/png": "[encoded data removed]",
      "text/plain": [
       "<Figure size 432x288 with 1 Axes>"
      ]
     },
     "metadata": {
      "needs_background": "light"
     },
     "output_type": "display_data"
    }
   ],
   "source": [
    "print(\"========= calculate AUC =========\")\n",
    "xgb_test = xgb.DMatrix(X_list['auc'].values)\n",
    "y_pred = model.predict(xgb_test)\n",
    "show_roc_curve(y_test = y_list['auc'], y_pred = y_pred)"
   ]
  }
 ],
 "metadata": {
  "interpreter": {
   "hash": "114000bcfe1b9e57aa775df2e91fc851857142db059bc5585a9a546bb988d5d2"
  },
  "kernelspec": {
   "display_name": "Python 3.8.8 64-bit ('base': conda)",
   "name": "python3"
  },
  "language_info": {
   "codemirror_mode": {
    "name": "ipython",
    "version": 3
   },
   "file_extension": ".py",
   "mimetype": "text/x-python",
   "name": "python",
   "nbconvert_exporter": "python",
   "pygments_lexer": "ipython3",
   "version": "3.8.8"
  }
 },
 "nbformat": 4,
 "nbformat_minor": 2
}
